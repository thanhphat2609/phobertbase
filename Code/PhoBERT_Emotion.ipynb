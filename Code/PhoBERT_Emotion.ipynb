{
  "nbformat": 4,
  "nbformat_minor": 0,
  "metadata": {
    "colab": {
      "provenance": [],
      "gpuType": "T4",
      "collapsed_sections": [
        "jP47odF8QO6P",
        "gwq19_GDhjfj",
        "D062BinahnZV",
        "uxQRaxDXhsfz",
        "14a8PzgkU3ZL",
        "p2HwKPt7hxf-",
        "1PnysfqhzA2_",
        "XDnG28FV9SLm",
        "P2g9cLui9c6O",
        "9D0JR6nD92cj",
        "MRcGzQ0Z-GOO",
        "uV8Em1d5-XFF"
      ],
      "include_colab_link": true
    },
    "kernelspec": {
      "name": "python3",
      "display_name": "Python 3"
    },
    "language_info": {
      "name": "python"
    },
    "accelerator": "GPU"
  },
  "cells": [
    {
      "cell_type": "markdown",
      "metadata": {
        "id": "view-in-github",
        "colab_type": "text"
      },
      "source": [
        "<a href=\"https://colab.research.google.com/github/mynhungg/Datamining/blob/Anh-Ki%E1%BB%87t/PhoBERT_Emotion.ipynb\" target=\"_parent\"><img src=\"https://colab.research.google.com/assets/colab-badge.svg\" alt=\"Open In Colab\"/></a>"
      ]
    },
    {
      "cell_type": "markdown",
      "source": [
        "# 1. Prepare"
      ],
      "metadata": {
        "id": "hGWb3HFky5X7"
      }
    },
    {
      "cell_type": "markdown",
      "source": [
        "## Connect to Google Drive"
      ],
      "metadata": {
        "id": "jP47odF8QO6P"
      }
    },
    {
      "cell_type": "code",
      "execution_count": 1,
      "metadata": {
        "colab": {
          "base_uri": "https://localhost:8080/"
        },
        "id": "QC0fLCfsvr-g",
        "outputId": "9d070627-78c9-4cfd-914d-06c30409b6f5"
      },
      "outputs": [
        {
          "output_type": "stream",
          "name": "stdout",
          "text": [
            "Mounted at /content/drive\n"
          ]
        }
      ],
      "source": [
        "from google.colab import drive\n",
        "drive.mount('/content/drive', force_remount=True)"
      ]
    },
    {
      "cell_type": "code",
      "source": [
        "import os\n",
        "path = \"/content/drive/MyDrive/Colab Notebooks/PhoBERT_Emotion\"\n",
        "os.chdir(path)"
      ],
      "metadata": {
        "id": "EnyVC7XJeSVT"
      },
      "execution_count": 2,
      "outputs": []
    },
    {
      "cell_type": "code",
      "source": [
        "get_ipython().system('ls')"
      ],
      "metadata": {
        "id": "o11RD_SRebju",
        "colab": {
          "base_uri": "https://localhost:8080/"
        },
        "outputId": "a0822544-e68d-450d-9dc4-ee3967ef50c5"
      },
      "execution_count": 3,
      "outputs": [
        {
          "output_type": "stream",
          "name": "stdout",
          "text": [
            "'Screenshot 2023-06-01 000433.png'   UIT-VSMEC\n"
          ]
        }
      ]
    },
    {
      "cell_type": "markdown",
      "source": [
        "Lệnh **`get_ipython().system('ls')`** được sử dụng trong môi trường Jupyter Notebook hoặc IPython để thực thi lệnh hệ thống **`ls`** (liệt kê các tệp tin và thư mục) và hiển thị kết quả trong ô output của Notebook."
      ],
      "metadata": {
        "id": "xnEdrg4Dedj4"
      }
    },
    {
      "cell_type": "markdown",
      "source": [
        "## Download packages"
      ],
      "metadata": {
        "id": "gwq19_GDhjfj"
      }
    },
    {
      "cell_type": "code",
      "source": [
        "!pip install openpyxl\n"
      ],
      "metadata": {
        "colab": {
          "base_uri": "https://localhost:8080/"
        },
        "id": "ppQiKV1_yz_J",
        "outputId": "9700077c-2a81-4e72-8c86-7025fda0263b"
      },
      "execution_count": 4,
      "outputs": [
        {
          "output_type": "stream",
          "name": "stdout",
          "text": [
            "Looking in indexes: https://pypi.org/simple, https://us-python.pkg.dev/colab-wheels/public/simple/\n",
            "Requirement already satisfied: openpyxl in /usr/local/lib/python3.10/dist-packages (3.0.10)\n",
            "Requirement already satisfied: et-xmlfile in /usr/local/lib/python3.10/dist-packages (from openpyxl) (1.1.0)\n"
          ]
        }
      ]
    },
    {
      "cell_type": "markdown",
      "source": [
        "**`openpyxl`** là một thư viện Python được sử dụng để làm việc với các tệp Excel (**`.xlsx`**). Nó cung cấp các công cụ cho việc đọc, ghi và chỉnh sửa dữ liệu trong các tệp Excel, cho phép thao tác với các bảng tính, các ô và các công thức trong tệp Excel."
      ],
      "metadata": {
        "id": "57lwf2BAgFxj"
      }
    },
    {
      "cell_type": "code",
      "source": [
        "!pip install transformers"
      ],
      "metadata": {
        "colab": {
          "base_uri": "https://localhost:8080/"
        },
        "id": "oipm1og9101u",
        "outputId": "a02b122a-b63b-445d-b58f-3347b00125a1"
      },
      "execution_count": 5,
      "outputs": [
        {
          "output_type": "stream",
          "name": "stdout",
          "text": [
            "Looking in indexes: https://pypi.org/simple, https://us-python.pkg.dev/colab-wheels/public/simple/\n",
            "Requirement already satisfied: transformers in /usr/local/lib/python3.10/dist-packages (4.29.2)\n",
            "Requirement already satisfied: filelock in /usr/local/lib/python3.10/dist-packages (from transformers) (3.12.0)\n",
            "Requirement already satisfied: huggingface-hub<1.0,>=0.14.1 in /usr/local/lib/python3.10/dist-packages (from transformers) (0.14.1)\n",
            "Requirement already satisfied: numpy>=1.17 in /usr/local/lib/python3.10/dist-packages (from transformers) (1.22.4)\n",
            "Requirement already satisfied: packaging>=20.0 in /usr/local/lib/python3.10/dist-packages (from transformers) (23.1)\n",
            "Requirement already satisfied: pyyaml>=5.1 in /usr/local/lib/python3.10/dist-packages (from transformers) (6.0)\n",
            "Requirement already satisfied: regex!=2019.12.17 in /usr/local/lib/python3.10/dist-packages (from transformers) (2022.10.31)\n",
            "Requirement already satisfied: requests in /usr/local/lib/python3.10/dist-packages (from transformers) (2.27.1)\n",
            "Requirement already satisfied: tokenizers!=0.11.3,<0.14,>=0.11.1 in /usr/local/lib/python3.10/dist-packages (from transformers) (0.13.3)\n",
            "Requirement already satisfied: tqdm>=4.27 in /usr/local/lib/python3.10/dist-packages (from transformers) (4.65.0)\n",
            "Requirement already satisfied: fsspec in /usr/local/lib/python3.10/dist-packages (from huggingface-hub<1.0,>=0.14.1->transformers) (2023.4.0)\n",
            "Requirement already satisfied: typing-extensions>=3.7.4.3 in /usr/local/lib/python3.10/dist-packages (from huggingface-hub<1.0,>=0.14.1->transformers) (4.5.0)\n",
            "Requirement already satisfied: urllib3<1.27,>=1.21.1 in /usr/local/lib/python3.10/dist-packages (from requests->transformers) (1.26.15)\n",
            "Requirement already satisfied: certifi>=2017.4.17 in /usr/local/lib/python3.10/dist-packages (from requests->transformers) (2022.12.7)\n",
            "Requirement already satisfied: charset-normalizer~=2.0.0 in /usr/local/lib/python3.10/dist-packages (from requests->transformers) (2.0.12)\n",
            "Requirement already satisfied: idna<4,>=2.5 in /usr/local/lib/python3.10/dist-packages (from requests->transformers) (3.4)\n"
          ]
        }
      ]
    },
    {
      "cell_type": "markdown",
      "source": [
        "Gói **`transformers`** là một thư viện Python phổ biến được phát triển bởi Hugging Face. Nó cung cấp các công cụ và mô hình để làm việc với xử lý ngôn ngữ tự nhiên (**`NLP`**) và học sâu (**`deep learning`**). Thư viện này cung cấp các mô hình nổi tiếng như **`BERT, GPT, RoBERTa`** và nhiều mô hình khác, và cung cấp các chức năng để tải, huấn luyện và sử dụng những mô hình này trong các tác vụ NLP."
      ],
      "metadata": {
        "id": "UFfILWWOgVOt"
      }
    },
    {
      "cell_type": "markdown",
      "source": [
        "## Import libraries"
      ],
      "metadata": {
        "id": "D062BinahnZV"
      }
    },
    {
      "cell_type": "code",
      "source": [
        "import torch\n",
        "import numpy as np\n",
        "import pandas as pd\n",
        "import seaborn as sns\n",
        "import matplotlib.pyplot as plt\n",
        "\n",
        "from gensim.utils import simple_preprocess\n",
        "from sklearn.model_selection import StratifiedKFold\n",
        "from sklearn.metrics import classification_report, confusion_matrix\n",
        "\n",
        "import torch.nn as nn\n",
        "from torch.optim import AdamW\n",
        "from torch.utils.data import Dataset, DataLoader\n",
        "\n",
        "from transformers import get_linear_schedule_with_warmup, AutoTokenizer, AutoModel, logging\n",
        "\n",
        "import warnings\n",
        "warnings.filterwarnings(\"ignore\")\n",
        "\n",
        "logging.set_verbosity_error()"
      ],
      "metadata": {
        "id": "UeC0HqkNyzaB"
      },
      "execution_count": 6,
      "outputs": []
    },
    {
      "cell_type": "markdown",
      "source": [
        "- **`torch`**: Đây là thư viện PyTorch, một thư viện mã nguồn mở cho việc tính toán số học trên GPU và xây dựng các mô hình học sâu.\n",
        "- **`numpy as np`**: Thư viện NumPy, được sử dụng để làm việc với mảng và ma trận số học.\n",
        "- **`pandas as pd`**: Thư viện Pandas, được sử dụng để làm việc với dữ liệu dạng bảng và thực hiện các thao tác xử lý dữ liệu.\n",
        "- **`seaborn as sns`**: Thư viện Seaborn, được sử dụng để tạo biểu đồ và trực quan hóa dữ liệu.\n",
        "- **`matplotlib.pyplot as plt`**: Một phần của thư viện Matplotlib, được sử dụng để tạo biểu đồ và trực quan hóa dữ liệu.\n",
        "- **`gensim.utils.simple_preprocess`**: Một phần của thư viện Gensim, được sử dụng để tiền xử lý văn bản và chuyển đổi văn bản thành các từ đơn giản.\n",
        "- **`sklearn.model_selection.StratifiedKFold`**: Một phần của thư viện Scikit-learn, được sử dụng để thực hiện phân chia dữ liệu theo Stratified K-Fold cho việc cross-validation.\n",
        "- **`sklearn.metrics.classification_report`**: Một phần của thư viện Scikit-learn, được sử dụng để tính toán báo cáo phân loại dựa trên các chỉ số như độ chính xác, độ phủ và f1-score.\n",
        "- **`sklearn.metrics.confusion_matrix`**: Một phần của thư viện Scikit-learn, được sử dụng để tính toán ma trận nhầm lẫn (confusion matrix) cho các bài toán phân loại.\n",
        "- **`torch.nn`**: Mô-đun trong thư viện PyTorch cho các lớp mô hình và các hàm mất mát (loss functions).\n",
        "- **`torch.optim.AdamW`**: Một phần của thư viện PyTorch, cung cấp trình tối ưu hóa AdamW.\n",
        "- **`torch.utils.data.Dataset, torch.utils.data.DataLoader`**: Các phần của thư viện PyTorch dùng để xây dựng và tải dữ liệu vào mô hình.\n",
        "- **`transformers`**: Thư viện Hugging Face Transformers, được sử dụng để làm việc với các mô hình NLP đã được huấn luyện trước (pretrained models) như BERT, GPT, RoBERTa, và các hàm tiện ích liên quan.\n",
        "- **`warnings`**: Một mô-đun trong Python để quản lý cảnh báo và thông báo trong quá trình chạy mã."
      ],
      "metadata": {
        "id": "J1fxAwqVhCE_"
      }
    },
    {
      "cell_type": "markdown",
      "source": [
        "## Function definition"
      ],
      "metadata": {
        "id": "uxQRaxDXhsfz"
      }
    },
    {
      "cell_type": "code",
      "source": [
        "def seed_everything(seed_value):\n",
        "    np.random.seed(seed_value)\n",
        "    torch.manual_seed(seed_value)\n",
        "    \n",
        "    if torch.cuda.is_available(): \n",
        "        torch.cuda.manual_seed(seed_value)\n",
        "        torch.cuda.manual_seed_all(seed_value)\n",
        "        torch.backends.cudnn.deterministic = True\n",
        "        torch.backends.cudnn.benchmark = True"
      ],
      "metadata": {
        "id": "C_0BQnyNy2pT"
      },
      "execution_count": 7,
      "outputs": []
    },
    {
      "cell_type": "markdown",
      "source": [
        "Đoạn mã trên định nghĩa một hàm **`seed_everything`** để thiết lập các giá trị hạt giống (seed) cho việc tái lặp lại (reproducibility) quá trình huấn luyện mô hình. Dưới đây là ý nghĩa của từng dòng mã trong hàm:\n",
        "\n",
        "- **`np.random.seed(seed_value)`**: Thiết lập giá trị hạt giống cho thư viện NumPy để tái lặp lại các phép ngẫu nhiên.\n",
        "- **`torch.manual_seed(seed_value)`**: Thiết lập giá trị hạt giống cho thư viện PyTorch để tái lặp lại các phép ngẫu nhiên.\n",
        "- **`if torch.cuda.is_available()`**: Kiểm tra xem có sử dụng GPU (CUDA) hay không.\n",
        "- **`torch.cuda.manual_seed(seed_value)`**: Thiết lập giá trị hạt giống cho CUDA để tái lặp lại các phép ngẫu nhiên trên GPU.\n",
        "- **`torch.cuda.manual_seed_all(seed_value)`**: Thiết lập giá trị hạt giống cho tất cả các thiết bị CUDA (nếu có).\n",
        "- **`torch.backends.cudnn.deterministic = True`**: Đặt chế độ xác định (deterministic) cho việc sử dụng thư viện cuDNN trên GPU. Điều này đảm bảo kết quả của các phép tính trên GPU là nhất quán và tái lặp lại được.\n",
        "- **`torch.backends.cudnn.benchmark = True`**: Đặt chế độ benchmark cho việc sử dụng thư viện cuDNN trên GPU. Điều này cho phép PyTorch tự động tinh chỉnh cấu hình cuDNN để tối ưu hóa hiệu suất.\n",
        "\n",
        "Bằng cách thiết lập các giá trị hạt giống như trên, ta có thể đảm bảo rằng quá trình huấn luyện mô hình sẽ cho ra kết quả nhất quán và có thể tái lặp lại được khi chạy nhiều lần."
      ],
      "metadata": {
        "id": "fR6Jm-jgiclX"
      }
    },
    {
      "cell_type": "code",
      "source": [
        "seed_everything(86)"
      ],
      "metadata": {
        "id": "gYwlDnqQhaSk"
      },
      "execution_count": 8,
      "outputs": []
    },
    {
      "cell_type": "code",
      "source": [
        "def get_data(path):\n",
        "    df = pd.read_excel(path, sheet_name='Sheet1')\n",
        "    df.columns = ['index', 'Emotion', 'Sentence']\n",
        "    df.drop(columns=['index'], inplace=True)\n",
        "    return df"
      ],
      "metadata": {
        "id": "tE-LWb0lkaZj"
      },
      "execution_count": 9,
      "outputs": []
    },
    {
      "cell_type": "markdown",
      "source": [
        "Hàm **`get_data`** trong đoạn mã trên nhận đầu vào là đường dẫn tới tệp Excel và trả về một dataframe chứa dữ liệu.\n",
        "\n",
        "Các bước trong hàm **`get_data`** là như sau:\n",
        "\n",
        "1. **`df = pd.read_excel(path, sheet_name='Sheet1')`**: Đọc tệp Excel từ đường dẫn **`path`** và lưu dữ liệu vào dataframe **`df`**. Tham số **`sheet_name='Sheet1'`** chỉ định rằng dữ liệu được đọc từ sheet có tên là 'Sheet1'.\n",
        "2. **`df.columns = ['index', 'Emotion', 'Sentence']`**: Đặt tên cột cho dataframe **`df`** thành ['index', 'Emotion', 'Sentence']. Các cột này tương ứng với các cột trong tệp Excel.\n",
        "3. **`df.drop(columns=['index'], inplace=True)`**: Xóa cột 'index' khỏi dataframe **`df`** vì không cần thiết.\n",
        "4. **`return df`**: Trả về dataframe **`df`** đã xử lý."
      ],
      "metadata": {
        "id": "5MRpftsakrix"
      }
    },
    {
      "cell_type": "code",
      "source": [
        "def train(model, criterion, optimizer, train_loader):\n",
        "    model.train()\n",
        "    losses = []\n",
        "    correct = 0\n",
        "\n",
        "    for data in train_loader:\n",
        "        input_ids = data['input_ids'].to(device)\n",
        "        attention_mask = data['attention_masks'].to(device)\n",
        "        targets = data['targets'].to(device)\n",
        "\n",
        "        optimizer.zero_grad()\n",
        "        outputs = model(\n",
        "            input_ids=input_ids,\n",
        "            attention_mask=attention_mask\n",
        "        )\n",
        "\n",
        "        loss = criterion(outputs, targets)\n",
        "        _, pred = torch.max(outputs, dim=1)\n",
        "\n",
        "        correct += torch.sum(pred == targets)\n",
        "        losses.append(loss.item())\n",
        "        loss.backward()\n",
        "        nn.utils.clip_grad_norm_(model.parameters(), max_norm=1.0)\n",
        "        optimizer.step()\n",
        "        lr_scheduler.step()\n",
        "\n",
        "    print(f'Train Accuracy: {correct.double()/len(train_loader.dataset)} Loss: {np.mean(losses)}')"
      ],
      "metadata": {
        "id": "5VNh49eNqKG0"
      },
      "execution_count": 10,
      "outputs": []
    },
    {
      "cell_type": "markdown",
      "source": [
        "Hàm **`train`** được sử dụng để huấn luyện mô hình. Các tham số đầu vào bao gồm:\n",
        "\n",
        "- **`model`**: Mô hình **`SentimentClassifier`** đã được khởi tạo.\n",
        "- **`criterion`**: Hàm mất mát để tính toán độ lỗi (ví dụ: **`nn.CrossEntropyLoss`**).\n",
        "- **`optimizer`**: Bộ tối ưu hóa được sử dụng để cập nhật trọng số của mô hình (ví dụ: **`AdamW`**).\n",
        "- **`train_loader`**: **`DataLoader`** chứa dữ liệu huấn luyện.\n",
        "\n",
        "Trong quá trình huấn luyện, các bước sau được thực hiện:\n",
        "\n",
        "- Đặt mô hình vào chế độ huấn luyện bằng cách gọi **`model.train()`**.\n",
        "- Khởi tạo biến **`losses`** để lưu trữ giá trị mất mát từ các batch.\n",
        "- Khởi tạo biến **`correct`** để lưu trữ số lượng dự đoán chính xác.\n",
        "- Với mỗi batch trong **`train_loader`**, thực hiện các bước sau:\n",
        "  - Di chuyển dữ liệu vào GPU (nếu có) bằng cách gọi **`to(device)`**.\n",
        "  - Xóa các gradient trước khi tính toán backward bằng **`optimizer.zero_grad()`**.\n",
        "  - Đưa dữ liệu qua mô hình để có đầu ra (**`outputs`**).\n",
        "  - Tính toán giá trị mất mát bằng cách so sánh đầu ra và nhãn thật (**`targets`**) thông qua **`criterion`**.\n",
        "  - Dùng **`torch.max`** để lấy ra nhãn dự đoán có giá trị lớn nhất.\n",
        "  - Cập nhật biến **`correct`** bằng cách tính toán số lượng dự đoán chính xác.\n",
        "  - Lưu trữ giá trị mất mát vào biến **`losses`**.\n",
        "  - Tính gradient và cập nhật trọng số mô hình thông qua **`loss.backward()`** và **`optimizer.step()`**.\n",
        "  - Áp dụng quá trình điều chỉnh learning rate thông qua **`lr_scheduler.step()`** (nếu có).\n",
        "  \n",
        "Cuối cùng, hàm in ra thông tin về độ chính xác trên tập huấn luyện và giá trị trung bình của mất mát (**`np.mean(losses)`**)."
      ],
      "metadata": {
        "id": "sjegJSWArrhp"
      }
    },
    {
      "cell_type": "code",
      "source": [
        "def eval(test_data = False):\n",
        "    model.eval()\n",
        "    losses = []\n",
        "    correct = 0\n",
        "\n",
        "    with torch.no_grad():\n",
        "        data_loader = test_loader if test_data else valid_loader\n",
        "        for data in data_loader:\n",
        "            input_ids = data['input_ids'].to(device)\n",
        "            attention_mask = data['attention_masks'].to(device)\n",
        "            targets = data['targets'].to(device)\n",
        "\n",
        "            outputs = model(\n",
        "                input_ids=input_ids,\n",
        "                attention_mask=attention_mask\n",
        "            )\n",
        "\n",
        "            _, pred = torch.max(outputs, dim=1)\n",
        "\n",
        "            loss = criterion(outputs, targets)\n",
        "            correct += torch.sum(pred == targets)\n",
        "            losses.append(loss.item())\n",
        "    \n",
        "    if test_data:\n",
        "        print(f'Test Accuracy: {correct.double()/len(test_loader.dataset)} Loss: {np.mean(losses)}')\n",
        "        return correct.double()/len(test_loader.dataset)\n",
        "    else:\n",
        "        print(f'Valid Accuracy: {correct.double()/len(valid_loader.dataset)} Loss: {np.mean(losses)}')\n",
        "        return correct.double()/len(valid_loader.dataset)"
      ],
      "metadata": {
        "id": "cYCqXblk94Yx"
      },
      "execution_count": 11,
      "outputs": []
    },
    {
      "cell_type": "markdown",
      "source": [
        "Hàm **`eval`** được sử dụng để đánh giá hiệu suất của mô hình trên tập kiểm tra hoặc tập xác thực. Các tham số đầu vào bao gồm:\n",
        "\n",
        "- **`test_data`**: Một cờ boolean xác định liệu ta đang đánh giá trên tập kiểm tra (**`True`**) hay tập xác thực (**`False`**).\n",
        "\n",
        "Trong quá trình đánh giá, các bước sau được thực hiện:\n",
        "\n",
        "- Đặt mô hình vào chế độ đánh giá bằng cách gọi **`model.eval()`**.\n",
        "- Khởi tạo biến **`losses`** để lưu trữ giá trị mất mát từ các batch.\n",
        "- Khởi tạo biến **`correct`** để lưu trữ số lượng dự đoán chính xác.\n",
        "- Sử dụng **`torch.no_grad()`** để tắt tính toán gradient.\n",
        "- Chọn **`data_loader`** tương ứng (từ **`test_loader`** hoặc **`valid_loader`**) dựa trên giá trị của **`test_data`**.\n",
        "- Với mỗi batch trong **`data_loader`**, thực hiện các bước sau:\n",
        "  - Di chuyển dữ liệu vào GPU (nếu có) bằng cách gọi **`to(device)`**.\n",
        "  - Đưa dữ liệu qua mô hình để có đầu ra (**`outputs`**).\n",
        "  - Dùng **`torch.max`** để lấy ra nhãn dự đoán có giá trị lớn nhất.\n",
        "  - Tính toán giá trị mất mát bằng cách so sánh đầu ra và nhãn thật thông qua **`criterion`**.\n",
        "  - Cập nhật biến **`correct`** bằng cách tính toán số lượng dự đoán chính xác.\n",
        "  - Lưu trữ giá trị mất mát vào biến **`losses`**.\n",
        "\n",
        "Cuối cùng, hàm in ra thông tin về độ chính xác trên tập kiểm tra hoặc tập xác thực và giá trị trung bình của mất mát (**`np.mean(losses)`**). Hàm trả về độ chính xác tính được trên tập kiểm tra hoặc tập xác thực."
      ],
      "metadata": {
        "id": "fWLV3gbttQHu"
      }
    },
    {
      "cell_type": "code",
      "source": [
        "def prepare_loaders(df, fold):\n",
        "    df_train = df[df.kfold != fold].reset_index(drop=True)\n",
        "    df_valid = df[df.kfold == fold].reset_index(drop=True)\n",
        "    \n",
        "    train_dataset = SentimentDataset(df_train, tokenizer, max_len=120)\n",
        "    valid_dataset = SentimentDataset(df_valid, tokenizer, max_len=120)\n",
        "    \n",
        "    train_loader = DataLoader(train_dataset, batch_size=16, shuffle=True, num_workers=2)\n",
        "    valid_loader = DataLoader(valid_dataset, batch_size=16, shuffle=True, num_workers=2)\n",
        "    \n",
        "    return train_loader, valid_loader"
      ],
      "metadata": {
        "id": "N-wGT1kZ97WP"
      },
      "execution_count": 12,
      "outputs": []
    },
    {
      "cell_type": "markdown",
      "source": [
        "Hàm **`prepare_loaders`** được sử dụng để chuẩn bị các DataLoader cho việc huấn luyện và đánh giá trên mỗi fold. Các tham số đầu vào bao gồm:\n",
        "\n",
        "- **`df`**: DataFrame chứa dữ liệu huấn luyện đã được gán fold.\n",
        "- **`fold`**: Fold hiện tại đang được xử lý.\n",
        "\n",
        "Các bước thực hiện trong hàm là:\n",
        "\n",
        "- Tách DataFrame **`df`** thành **`df_train`** và **`df_valid`** dựa trên fold hiện tại.\n",
        "- Tạo đối tượng **`train_dataset`** và **`valid_dataset`** từ **`df_train`** và **`df_valid`** sử dụng lớp **`SentimentDataset`**.\n",
        "- Tạo DataLoader **`train_loader`** và **`valid_loader`** từ **`train_dataset`** và **`valid_dataset`** với các thông số:\n",
        "  - **`batch_size=16`**: Số lượng mẫu trong mỗi batch.\n",
        "  - **`shuffle=True`**: Xáo trộn dữ liệu trước khi tạo batch.\n",
        "  - **`num_workers=2`**: Số luồng xử lý dữ liệu song song.\n",
        "\n",
        "Cuối cùng, hàm trả về **`train_loader`** và **`valid_loader`** để sử dụng trong quá trình huấn luyện và đánh giá."
      ],
      "metadata": {
        "id": "lp-Nqr8yunxT"
      }
    },
    {
      "cell_type": "code",
      "source": [
        "def test(data_loader):\n",
        "    models = []\n",
        "    for fold in range(skf.n_splits):\n",
        "        model = SentimentClassifier(n_classes=7)\n",
        "        model.to(device)\n",
        "        model.load_state_dict(torch.load(f'phobert_fold{fold+1}.pth'))\n",
        "        model.eval()\n",
        "        models.append(model)\n",
        "\n",
        "    texts = []\n",
        "    predicts = []\n",
        "    predict_probs = []\n",
        "    real_values = []\n",
        "\n",
        "    for data in data_loader:\n",
        "        text = data['text']\n",
        "        input_ids = data['input_ids'].to(device)\n",
        "        attention_mask = data['attention_masks'].to(device)\n",
        "        targets = data['targets'].to(device)\n",
        "\n",
        "        total_outs = []\n",
        "        for model in models:\n",
        "            with torch.no_grad():\n",
        "                outputs = model(\n",
        "                    input_ids=input_ids,\n",
        "                    attention_mask=attention_mask\n",
        "                )\n",
        "                total_outs.append(outputs)\n",
        "        \n",
        "        total_outs = torch.stack(total_outs)\n",
        "        _, pred = torch.max(total_outs.mean(0), dim=1)\n",
        "        texts.extend(text)\n",
        "        predicts.extend(pred)\n",
        "        predict_probs.extend(total_outs.mean(0))\n",
        "        real_values.extend(targets)\n",
        "    \n",
        "    predicts = torch.stack(predicts).cpu()\n",
        "    predict_probs = torch.stack(predict_probs).cpu()\n",
        "    real_values = torch.stack(real_values).cpu()\n",
        "    print(classification_report(real_values, predicts))\n",
        "    return real_values, predicts"
      ],
      "metadata": {
        "id": "y8OE9Nhs-IHx"
      },
      "execution_count": 13,
      "outputs": []
    },
    {
      "cell_type": "markdown",
      "source": [
        "Hàm **`test`** được sử dụng để đánh giá mô hình trên dữ liệu kiểm tra hoặc dữ liệu mới. Các bước thực hiện trong hàm **`test`** là:\n",
        "\n",
        "- Khởi tạo một danh sách **`models`** để lưu trữ các mô hình đã được huấn luyện trên các fold trước đó.\n",
        "- Vòng lặp qua các fold để tải và tạo mô hình từ trạng thái đã lưu.\n",
        "- Thiết lập mô hình ở chế độ đánh giá bằng cách gọi **`model.eval()`**.\n",
        "- Tạo các danh sách để lưu trữ dữ liệu về văn bản, dự đoán, xác suất dự đoán và giá trị thực của các mẫu.\n",
        "- Vòng lặp qua từng mẫu trong **`data_loader`**.\n",
        "  - Lấy thông tin văn bản, đầu vào **`input_ids`**, **`attention_mask`** và giá trị thực **`targets`**.\n",
        "  - Tạo danh sách **`total_outs`** để lưu trữ đầu ra của các mô hình trên từng fold.\n",
        "  - Vòng lặp qua các mô hình trong **`models`**.\n",
        "    - Sử dụng mô hình để tính toán đầu ra cho mẫu đầu vào.\n",
        "    - Lưu trữ đầu ra vào danh sách **`total_outs`**.\n",
        "  - Chuyển đổi danh sách **`total_outs`** thành tensor và tính toán dự đoán cuối cùng bằng cách lấy giá trị lớn nhất trung bình.\n",
        "  - Gắn kết thông tin văn bản, dự đoán, xác suất dự đoán và giá trị thực vào các danh sách tương ứng.\n",
        "- Chuyển đổi dự đoán, xác suất dự đoán và giá trị thực thành tensor trên CPU.\n",
        "- In báo cáo phân loại bằng cách gọi **`classification_report`** từ **`sklearn.metrics`**.\n",
        "- Trả về các tensor **`real_values`** (giá trị thực) và **`predicts`** (dự đoán)."
      ],
      "metadata": {
        "id": "iFXG1aKQwmnV"
      }
    },
    {
      "cell_type": "code",
      "source": [
        "def check_wrong(real_values, predicts):\n",
        "    wrong_arr = []\n",
        "    wrong_label = []\n",
        "    for i in range(len(predicts)):\n",
        "        if predicts[i] != real_values[i]:\n",
        "            wrong_arr.append(i)\n",
        "            wrong_label.append(predicts[i])\n",
        "    return wrong_arr, wrong_label"
      ],
      "metadata": {
        "id": "RGdnRkcKz_5Z"
      },
      "execution_count": 14,
      "outputs": []
    },
    {
      "cell_type": "markdown",
      "source": [
        "Hàm **`check_wrong`** được sử dụng để kiểm tra các trường hợp dự đoán sai của mô hình.\n",
        "\n",
        "- Đầu vào của hàm là **`real_values`** (giá trị thực) và **`predicts`** (dự đoán).\n",
        "- Hàm sẽ duyệt qua từng phần tử trong **`predicts`** và so sánh với giá trị tương ứng trong **`real_values`**.\n",
        "- Nếu dự đoán không khớp với giá trị thực, vị trí của phần tử đó sẽ được thêm vào danh sách **`wrong_arr`**, và dự đoán sai sẽ được thêm vào danh sách **`wrong_label`**.\n",
        "- Cuối cùng, hàm trả về **`wrong_arr`** (danh sách các vị trí dự đoán sai) và **`wrong_label`** (danh sách các dự đoán sai)."
      ],
      "metadata": {
        "id": "nx5V0lvn0PJh"
      }
    },
    {
      "cell_type": "code",
      "source": [
        "def infer(text, tokenizer, max_len=120):\n",
        "    encoded_review = tokenizer.encode_plus(\n",
        "        text,\n",
        "        max_length=max_len,\n",
        "        truncation=True,\n",
        "        add_special_tokens=True,\n",
        "        padding='max_length',\n",
        "        return_attention_mask=True,\n",
        "        return_token_type_ids=False,\n",
        "        return_tensors='pt',\n",
        "    )\n",
        "\n",
        "    input_ids = encoded_review['input_ids'].to(device)\n",
        "    attention_mask = encoded_review['attention_mask'].to(device)\n",
        "\n",
        "    output = model(input_ids, attention_mask)\n",
        "    _, y_pred = torch.max(output, dim=1)\n",
        "\n",
        "    print(f'Text: {text}')\n",
        "    print(f'Sentiment: {class_names[y_pred]}')"
      ],
      "metadata": {
        "id": "ENbHjI7w-aUw"
      },
      "execution_count": 15,
      "outputs": []
    },
    {
      "cell_type": "markdown",
      "source": [
        "Đoạn code trên định nghĩa một hàm **`infer`** để dự đoán cảm xúc của một câu văn mới bằng cách sử dụng mô hình đã được huấn luyện. \n",
        "\n",
        "Hàm **`infer`** nhận vào các đối số sau:\n",
        "- **`text`**: Đây là câu văn cần dự đoán cảm xúc.\n",
        "- **`tokenizer`**: Đối tượng tokenizer được sử dụng để mã hóa câu văn thành dạng phù hợp cho mô hình.\n",
        "- **`max_len`**: Độ dài tối đa của câu văn sau khi mã hóa.\n",
        "\n",
        "Trước tiên, câu văn **`text`** được mã hóa bằng cách sử dụng tokenizer. Quá trình mã hóa này bao gồm thêm các token đặc biệt vào câu văn, cắt ngắn hoặc bổ sung các token để đảm bảo độ dài của câu văn không vượt quá **`max_len`**, và tạo các tensor đại diện cho câu văn (bao gồm tensor **`input_ids`** và **`attention_mask`**).\n",
        "\n",
        "Tiếp theo, câu văn được đưa vào mô hình để dự đoán cảm xúc. Mô hình trả về một tensor chứa xác suất dự đoán cho từng lớp cảm xúc. Bằng cách sử dụng hàm **`torch.max`**, ta lấy chỉ số của lớp có xác suất dự đoán cao nhất (**`y_pred`**).\n",
        "\n",
        "Cuối cùng, hàm **`infer`** in ra câu văn ban đầu (**`text`**) và cảm xúc dự đoán tương ứng (**`class_names[y_pred]`**). **`class_names`** là danh sách các nhãn cảm xúc tương ứng với các lớp.\n",
        "\n",
        "Bằng cách sử dụng hàm **`infer`**, ta có thể dễ dàng dự đoán cảm xúc của các câu văn mới bằng cách gọi hàm và truyền vào câu văn cần dự đoán."
      ],
      "metadata": {
        "id": "8pmadUxe2FhL"
      }
    },
    {
      "cell_type": "markdown",
      "source": [
        "## Class definition"
      ],
      "metadata": {
        "id": "14a8PzgkU3ZL"
      }
    },
    {
      "cell_type": "code",
      "source": [
        "class SentimentDataset(Dataset):\n",
        "    def __init__(self, df, tokenizer, max_len=120):\n",
        "        self.df = df\n",
        "        self.max_len = max_len\n",
        "        self.tokenizer = tokenizer\n",
        "    \n",
        "    def __len__(self):\n",
        "        return len(self.df)\n",
        "\n",
        "    def __getitem__(self, index):\n",
        "        \"\"\"\n",
        "        To customize dataset, inherit from Dataset class and implement\n",
        "        __len__ & __getitem__\n",
        "        __getitem__ should return \n",
        "            data:\n",
        "                input_ids\n",
        "                attention_masks\n",
        "                text\n",
        "                targets\n",
        "        \"\"\"\n",
        "        row = self.df.iloc[index]\n",
        "        text, label = self.get_input_data(row)\n",
        "\n",
        "        # Encode_plus will:\n",
        "        # (1) split text into token\n",
        "        # (2) Add the '[CLS]' and '[SEP]' token to the start and end\n",
        "        # (3) Truncate/Pad sentence to max length\n",
        "        # (4) Map token to their IDS\n",
        "        # (5) Create attention mask\n",
        "        # (6) Return a dictionary of outputs\n",
        "        encoding = self.tokenizer.encode_plus(\n",
        "            text,\n",
        "            truncation=True,\n",
        "            add_special_tokens=True,\n",
        "            max_length=self.max_len,\n",
        "            padding='max_length',\n",
        "            return_attention_mask=True,\n",
        "            return_token_type_ids=False,\n",
        "            return_tensors='pt',\n",
        "        )\n",
        "        \n",
        "        return {\n",
        "            'text': text,\n",
        "            'input_ids': encoding['input_ids'].flatten(),\n",
        "            'attention_masks': encoding['attention_mask'].flatten(),\n",
        "            'targets': torch.tensor(label, dtype=torch.long),\n",
        "        }\n",
        "\n",
        "\n",
        "    def labelencoder(self,text):\n",
        "        if text=='Enjoyment':\n",
        "            return 0\n",
        "        elif text=='Disgust':\n",
        "            return 1\n",
        "        elif text=='Sadness':\n",
        "            return 2\n",
        "        elif text=='Anger':\n",
        "            return 3\n",
        "        elif text=='Surprise':\n",
        "            return 4\n",
        "        elif text=='Fear':\n",
        "            return 5\n",
        "        else:\n",
        "            return 6\n",
        "\n",
        "    def get_input_data(self, row):\n",
        "        # Preprocessing: {remove icon, special character, lower}\n",
        "        text = row['Sentence']\n",
        "        text = ' '.join(simple_preprocess(text))\n",
        "        label = self.labelencoder(row['Emotion'])\n",
        "\n",
        "        return text, label"
      ],
      "metadata": {
        "id": "FX6tP3CU9neg"
      },
      "execution_count": 16,
      "outputs": []
    },
    {
      "cell_type": "markdown",
      "source": [
        "Lớp **`SentimentDataset`** là một lớp con của **`torch.utils.data.Dataset`**, được sử dụng để tạo ra một tập dữ liệu tùy chỉnh cho nhiệm vụ phân loại cảm xúc (sentiment classification).\n",
        "\n",
        "Các phương thức chính trong lớp **`SentimentDataset`** bao gồm:\n",
        "\n",
        "- **`__init__(self, df, tokenizer, max_len=120)`**: Phương thức khởi tạo của lớp, nhận vào dataframe **`df`** chứa dữ liệu huấn luyện, tokenizer **`tokenizer`** và độ dài tối đa **`max_len`** của câu.\n",
        "- **`__len__(self)`**: Phương thức trả về số lượng mẫu trong tập dữ liệu.\n",
        "- **`__getitem__(self, index)`**: Phương thức trả về một mẫu dữ liệu tại vị trí **`index`**. Phương thức này thực hiện tiền xử lý văn bản, mã hóa văn bản thành các mã token và trả về một từ điển chứa thông tin của mẫu dữ liệu, bao gồm **`input_ids`** (mã token), **`attention_masks`** (mặt nạ chú ý), **`text`** (văn bản gốc) và **`targets`** (nhãn).\n",
        "- **`labelencoder(self, text)`**: Phương thức chuyển đổi nhãn từ dạng văn bản sang số nguyên. Các nhãn được mã hóa như sau: **`Enjoyment`**: 0, **`Disgust`**: 1, **`Sadness`**: 2, **`Anger`**: 3, **`Surprise`**: 4, **`Fear`**: 5, **`Khác`**: 6.\n",
        "- **`get_input_data(self, row)`**: Phương thức thực hiện xử lý dữ liệu đầu vào từ một hàng dữ liệu trong dataframe **`df`**. Nó loại bỏ các ký tự đặc biệt, chuyển đổi văn bản thành dạng lowercase và trả về văn bản và nhãn tương ứng.\n",
        "\n",
        "Lớp **`SentimentDataset`** cho phép tạo ra các đối tượng tập dữ liệu tuỳ chỉnh để huấn luyện và đánh giá mô hình phân loại cảm xúc."
      ],
      "metadata": {
        "id": "TyV9hp_KnyoN"
      }
    },
    {
      "cell_type": "code",
      "source": [
        "class SentimentClassifier(nn.Module):\n",
        "    def __init__(self, n_classes):\n",
        "        super(SentimentClassifier, self).__init__()\n",
        "        self.bert = AutoModel.from_pretrained(\"vinai/phobert-base\")\n",
        "        self.drop = nn.Dropout(p=0.3)\n",
        "        self.fc = nn.Linear(self.bert.config.hidden_size, n_classes)\n",
        "        nn.init.normal_(self.fc.weight, std=0.02)\n",
        "        nn.init.normal_(self.fc.bias, 0)\n",
        "\n",
        "    def forward(self, input_ids, attention_mask):\n",
        "        last_hidden_state, output = self.bert(\n",
        "            input_ids=input_ids,\n",
        "            attention_mask=attention_mask,\n",
        "            return_dict=False # Dropout will errors if without this\n",
        "        )\n",
        "\n",
        "        x = self.drop(output)\n",
        "        x = self.fc(x)\n",
        "        return x"
      ],
      "metadata": {
        "id": "5o_hv7_a9sXi"
      },
      "execution_count": 17,
      "outputs": []
    },
    {
      "cell_type": "markdown",
      "source": [
        "Lớp **`SentimentClassifier`** là một mô hình phân loại cảm xúc dựa trên kiến trúc của RoBERTa. Cụ thể:\n",
        "\n",
        "- **`n_classes`**: Số lượng lớp đầu ra (số lượng cảm xúc khác nhau).\n",
        "\n",
        "Phương thức **`__init__`**:\n",
        "- Khởi tạo mô hình RoBERTa (**`self.bert`**) từ pretrained weights của bộ mã hóa PhoBERT.\n",
        "- Áp dụng Dropout với xác suất 0.3 (**`self.drop`**) để tránh overfitting.\n",
        "- Tạo một lớp tuyến tính (**`self.fc`**) với kích thước đầu ra bằng **`n_classes`** và khởi tạo các trọng số ngẫu nhiên theo phân phối chuẩn.\n",
        "\n",
        "Phương thức **`forward`**:\n",
        "- Đầu vào của mô hình là **`input_ids`** (chuỗi các mã token) và **`attention_mask`** (mảng chỉ định phần tử thực tế và padding trong câu).\n",
        "- Mô hình RoBERTa được áp dụng cho đầu vào và trả về kết quả cuối cùng và hidden state (**`last_hidden_state`**, **`output`**).\n",
        "- Đầu ra từ RoBERTa được truyền qua Dropout layer và sau đó thông qua một lớp tuyến tính để đưa ra dự đoán cho từng lớp.\n",
        "\n",
        "Lớp **`SentimentClassifier`** là một lớp con của lớp **`nn.Module`** trong PyTorch và triển khai phương thức **`forward`** để thực hiện feedforward qua mô hình."
      ],
      "metadata": {
        "id": "yHbDh9i7p0fW"
      }
    },
    {
      "cell_type": "markdown",
      "source": [
        "## Parameter definition"
      ],
      "metadata": {
        "id": "p2HwKPt7hxf-"
      }
    },
    {
      "cell_type": "code",
      "source": [
        "device = torch.device('cuda:0' if torch.cuda.is_available() else 'cpu')\n",
        "EPOCHS = 6\n",
        "N_SPLITS = 5"
      ],
      "metadata": {
        "id": "KI5cTzkmy3xn"
      },
      "execution_count": 18,
      "outputs": []
    },
    {
      "cell_type": "markdown",
      "source": [
        "- **`device = torch.device('cuda:0' if torch.cuda.is_available() else 'cpu')`**: Dòng này xác định thiết bị tính toán mà PyTorch sẽ sử dụng. Nếu CUDA (GPU) khả dụng, thiết bị sẽ được đặt là 'cuda:0' (thiết bị GPU đầu tiên), ngược lại nó sẽ được đặt là 'cpu' (thiết bị CPU).\n",
        "- **`EPOCHS = 6`**: Biến EPOCHS định nghĩa số lượng epochs (vòng lặp huấn luyện) mà mô hình sẽ được huấn luyện qua.\n",
        "- **`N_SPLITS = 5`**: Biến N_SPLITS định nghĩa số lượng phân chia (splits) trong quá trình cross-validation (kiểm định chéo). Đây là số lượng phần chia dữ liệu huấn luyện và kiểm tra mà mô hình sẽ được huấn luyện và đánh giá trên. Trong trường hợp này, có tổng cộng 5 phân chia."
      ],
      "metadata": {
        "id": "jaAEEnC7j-gw"
      }
    },
    {
      "cell_type": "markdown",
      "source": [
        "# 2. Load data"
      ],
      "metadata": {
        "id": "1PnysfqhzA2_"
      }
    },
    {
      "cell_type": "markdown",
      "source": [
        "## Dataset Introduction"
      ],
      "metadata": {
        "id": "c1dPuAjRvQmG"
      }
    },
    {
      "cell_type": "markdown",
      "source": [
        "Dataset được lấy trong bài báo: **Emotion Recognition\n",
        "for Vietnamese Social Media Text\"** của nhóm tác giả Vong Anh Ho, Duong Huynh-Cong Nguyen, Danh Hoang Nguyen, Linh Thi-Van Pham, Duc-Vu Nguyen, Kiet Van Nguyen, Ngan Luu-Thuy Nguyen.\n",
        "Link bài báo: https://arxiv.org/pdf/1911.09339.pdf\n",
        "![image.png](https://th.bing.com/th/id/R.3919507c4109750a00952538e4953427?rik=4fcsgGs3sz633A&pid=ImgRaw&r=0)\n"
      ],
      "metadata": {
        "id": "Xjq0Ne9Swcv1"
      }
    },
    {
      "cell_type": "code",
      "source": [
        "train_df = get_data('/content/drive/MyDrive/Colab Notebooks/PhoBERT_Emotion/UIT-VSMEC/train_nor_811.xlsx')\n",
        "valid_df = get_data('/content/drive/MyDrive/Colab Notebooks/PhoBERT_Emotion/UIT-VSMEC/valid_nor_811.xlsx')\n",
        "test_df = get_data('/content/drive/MyDrive/Colab Notebooks/PhoBERT_Emotion/UIT-VSMEC/test_nor_811.xlsx')"
      ],
      "metadata": {
        "id": "f9PCH5_g1-zm"
      },
      "execution_count": 19,
      "outputs": []
    },
    {
      "cell_type": "code",
      "source": [
        "train_df = pd.concat([train_df, valid_df], ignore_index=True)\n",
        "skf = StratifiedKFold(n_splits=N_SPLITS)\n",
        "\n",
        "for fold, (_, val_) in enumerate(skf.split(X=train_df, y=train_df.Emotion)):\n",
        "    train_df.loc[val_, \"kfold\"] = fold"
      ],
      "metadata": {
        "id": "zLWPoBKFlBH1"
      },
      "execution_count": 20,
      "outputs": []
    },
    {
      "cell_type": "markdown",
      "source": [
        "Đoạn mã trên thực hiện quá trình chia dữ liệu thành các phần chia kiểm định sử dụng StratifiedKFold.\n",
        "\n",
        "Các bước trong đoạn mã là như sau:\n",
        "\n",
        "1. **`train_df = pd.concat([train_df, valid_df], ignore_index=True)`**: Kết hợp dataframe train_df và valid_df lại thành một dataframe duy nhất. Tham số **`ignore_index=True`** được sử dụng để đặt lại chỉ mục của các dòng trong dataframe kết hợp.\n",
        "2. **`skf = StratifiedKFold(n_splits=N_SPLITS)`**: Khởi tạo một đối tượng StratifiedKFold với số lượng phần chia kiểm định là N_SPLITS.\n",
        "3. **`for fold, (_, val_) in enumerate(skf.split(X=train_df, y=train_df.Emotion))`**: Sử dụng vòng lặp for để duyệt qua các fold được tạo bởi StratifiedKFold. Biến fold đại diện cho số thứ tự của fold, còn (_, val_) đại diện cho chỉ mục của các dữ liệu huấn luyện và dữ liệu kiểm định trong fold hiện tại.\n",
        "4. **`train_df.loc[val_, \"kfold\"] = fold`**: Đánh dấu các dữ liệu có chỉ mục là val_ trong cột \"kfold\" của dataframe train_df với giá trị của fold hiện tại."
      ],
      "metadata": {
        "id": "hDUVw6uAljRd"
      }
    },
    {
      "cell_type": "code",
      "source": [
        "train_df.sample(5)"
      ],
      "metadata": {
        "colab": {
          "base_uri": "https://localhost:8080/",
          "height": 206
        },
        "id": "X_o1g33u9PzB",
        "outputId": "477189a9-e6db-49c6-d9f0-f068bf3c5831"
      },
      "execution_count": 21,
      "outputs": [
        {
          "output_type": "execute_result",
          "data": {
            "text/plain": [
              "        Emotion                                           Sentence  kfold\n",
              "3706  Enjoyment  dễ thương ghê ! làm mình nhớ các cậu bạn cùng ...    2.0\n",
              "3913  Enjoyment                               đáng yêuc vãi anh ơi    3.0\n",
              "234    Surprise                                  bất ngờ chưa =)))    0.0\n",
              "658    Surprise              cha con y chang nhau 😂 1 khuôn đúc ra    0.0\n",
              "821   Enjoyment              lợi ích của việc giữ vững quan điểm 😄    0.0"
            ],
            "text/html": [
              "\n",
              "  <div id=\"df-4804349b-95cf-44ab-abd7-4b6ccc397394\">\n",
              "    <div class=\"colab-df-container\">\n",
              "      <div>\n",
              "<style scoped>\n",
              "    .dataframe tbody tr th:only-of-type {\n",
              "        vertical-align: middle;\n",
              "    }\n",
              "\n",
              "    .dataframe tbody tr th {\n",
              "        vertical-align: top;\n",
              "    }\n",
              "\n",
              "    .dataframe thead th {\n",
              "        text-align: right;\n",
              "    }\n",
              "</style>\n",
              "<table border=\"1\" class=\"dataframe\">\n",
              "  <thead>\n",
              "    <tr style=\"text-align: right;\">\n",
              "      <th></th>\n",
              "      <th>Emotion</th>\n",
              "      <th>Sentence</th>\n",
              "      <th>kfold</th>\n",
              "    </tr>\n",
              "  </thead>\n",
              "  <tbody>\n",
              "    <tr>\n",
              "      <th>3706</th>\n",
              "      <td>Enjoyment</td>\n",
              "      <td>dễ thương ghê ! làm mình nhớ các cậu bạn cùng ...</td>\n",
              "      <td>2.0</td>\n",
              "    </tr>\n",
              "    <tr>\n",
              "      <th>3913</th>\n",
              "      <td>Enjoyment</td>\n",
              "      <td>đáng yêuc vãi anh ơi</td>\n",
              "      <td>3.0</td>\n",
              "    </tr>\n",
              "    <tr>\n",
              "      <th>234</th>\n",
              "      <td>Surprise</td>\n",
              "      <td>bất ngờ chưa =)))</td>\n",
              "      <td>0.0</td>\n",
              "    </tr>\n",
              "    <tr>\n",
              "      <th>658</th>\n",
              "      <td>Surprise</td>\n",
              "      <td>cha con y chang nhau 😂 1 khuôn đúc ra</td>\n",
              "      <td>0.0</td>\n",
              "    </tr>\n",
              "    <tr>\n",
              "      <th>821</th>\n",
              "      <td>Enjoyment</td>\n",
              "      <td>lợi ích của việc giữ vững quan điểm 😄</td>\n",
              "      <td>0.0</td>\n",
              "    </tr>\n",
              "  </tbody>\n",
              "</table>\n",
              "</div>\n",
              "      <button class=\"colab-df-convert\" onclick=\"convertToInteractive('df-4804349b-95cf-44ab-abd7-4b6ccc397394')\"\n",
              "              title=\"Convert this dataframe to an interactive table.\"\n",
              "              style=\"display:none;\">\n",
              "        \n",
              "  <svg xmlns=\"http://www.w3.org/2000/svg\" height=\"24px\"viewBox=\"0 0 24 24\"\n",
              "       width=\"24px\">\n",
              "    <path d=\"M0 0h24v24H0V0z\" fill=\"none\"/>\n",
              "    <path d=\"M18.56 5.44l.94 2.06.94-2.06 2.06-.94-2.06-.94-.94-2.06-.94 2.06-2.06.94zm-11 1L8.5 8.5l.94-2.06 2.06-.94-2.06-.94L8.5 2.5l-.94 2.06-2.06.94zm10 10l.94 2.06.94-2.06 2.06-.94-2.06-.94-.94-2.06-.94 2.06-2.06.94z\"/><path d=\"M17.41 7.96l-1.37-1.37c-.4-.4-.92-.59-1.43-.59-.52 0-1.04.2-1.43.59L10.3 9.45l-7.72 7.72c-.78.78-.78 2.05 0 2.83L4 21.41c.39.39.9.59 1.41.59.51 0 1.02-.2 1.41-.59l7.78-7.78 2.81-2.81c.8-.78.8-2.07 0-2.86zM5.41 20L4 18.59l7.72-7.72 1.47 1.35L5.41 20z\"/>\n",
              "  </svg>\n",
              "      </button>\n",
              "      \n",
              "  <style>\n",
              "    .colab-df-container {\n",
              "      display:flex;\n",
              "      flex-wrap:wrap;\n",
              "      gap: 12px;\n",
              "    }\n",
              "\n",
              "    .colab-df-convert {\n",
              "      background-color: #E8F0FE;\n",
              "      border: none;\n",
              "      border-radius: 50%;\n",
              "      cursor: pointer;\n",
              "      display: none;\n",
              "      fill: #1967D2;\n",
              "      height: 32px;\n",
              "      padding: 0 0 0 0;\n",
              "      width: 32px;\n",
              "    }\n",
              "\n",
              "    .colab-df-convert:hover {\n",
              "      background-color: #E2EBFA;\n",
              "      box-shadow: 0px 1px 2px rgba(60, 64, 67, 0.3), 0px 1px 3px 1px rgba(60, 64, 67, 0.15);\n",
              "      fill: #174EA6;\n",
              "    }\n",
              "\n",
              "    [theme=dark] .colab-df-convert {\n",
              "      background-color: #3B4455;\n",
              "      fill: #D2E3FC;\n",
              "    }\n",
              "\n",
              "    [theme=dark] .colab-df-convert:hover {\n",
              "      background-color: #434B5C;\n",
              "      box-shadow: 0px 1px 3px 1px rgba(0, 0, 0, 0.15);\n",
              "      filter: drop-shadow(0px 1px 2px rgba(0, 0, 0, 0.3));\n",
              "      fill: #FFFFFF;\n",
              "    }\n",
              "  </style>\n",
              "\n",
              "      <script>\n",
              "        const buttonEl =\n",
              "          document.querySelector('#df-4804349b-95cf-44ab-abd7-4b6ccc397394 button.colab-df-convert');\n",
              "        buttonEl.style.display =\n",
              "          google.colab.kernel.accessAllowed ? 'block' : 'none';\n",
              "\n",
              "        async function convertToInteractive(key) {\n",
              "          const element = document.querySelector('#df-4804349b-95cf-44ab-abd7-4b6ccc397394');\n",
              "          const dataTable =\n",
              "            await google.colab.kernel.invokeFunction('convertToInteractive',\n",
              "                                                     [key], {});\n",
              "          if (!dataTable) return;\n",
              "\n",
              "          const docLinkHtml = 'Like what you see? Visit the ' +\n",
              "            '<a target=\"_blank\" href=https://colab.research.google.com/notebooks/data_table.ipynb>data table notebook</a>'\n",
              "            + ' to learn more about interactive tables.';\n",
              "          element.innerHTML = '';\n",
              "          dataTable['output_type'] = 'display_data';\n",
              "          await google.colab.output.renderOutput(dataTable, element);\n",
              "          const docLink = document.createElement('div');\n",
              "          docLink.innerHTML = docLinkHtml;\n",
              "          element.appendChild(docLink);\n",
              "        }\n",
              "      </script>\n",
              "    </div>\n",
              "  </div>\n",
              "  "
            ]
          },
          "metadata": {},
          "execution_count": 21
        }
      ]
    },
    {
      "cell_type": "markdown",
      "source": [
        "# 3. Data visualization"
      ],
      "metadata": {
        "id": "XDnG28FV9SLm"
      }
    },
    {
      "cell_type": "code",
      "source": [
        "train_df.info(), test_df.info()"
      ],
      "metadata": {
        "colab": {
          "base_uri": "https://localhost:8080/"
        },
        "id": "X1g1oQ669WTo",
        "outputId": "48f8459a-6fee-4654-884f-00267aa39156"
      },
      "execution_count": 22,
      "outputs": [
        {
          "output_type": "stream",
          "name": "stdout",
          "text": [
            "<class 'pandas.core.frame.DataFrame'>\n",
            "RangeIndex: 6234 entries, 0 to 6233\n",
            "Data columns (total 3 columns):\n",
            " #   Column    Non-Null Count  Dtype  \n",
            "---  ------    --------------  -----  \n",
            " 0   Emotion   6234 non-null   object \n",
            " 1   Sentence  6234 non-null   object \n",
            " 2   kfold     6234 non-null   float64\n",
            "dtypes: float64(1), object(2)\n",
            "memory usage: 146.2+ KB\n",
            "<class 'pandas.core.frame.DataFrame'>\n",
            "RangeIndex: 693 entries, 0 to 692\n",
            "Data columns (total 2 columns):\n",
            " #   Column    Non-Null Count  Dtype \n",
            "---  ------    --------------  ----- \n",
            " 0   Emotion   693 non-null    object\n",
            " 1   Sentence  693 non-null    object\n",
            "dtypes: object(2)\n",
            "memory usage: 11.0+ KB\n"
          ]
        },
        {
          "output_type": "execute_result",
          "data": {
            "text/plain": [
              "(None, None)"
            ]
          },
          "metadata": {},
          "execution_count": 22
        }
      ]
    },
    {
      "cell_type": "markdown",
      "source": [
        "Phương thức **`.info()`** sẽ hiển thị thông tin tổng quan về dataframe bao gồm số lượng dòng, số lượng cột, các kiểu dữ liệu của các cột và thông tin về lượng bộ nhớ được sử dụng."
      ],
      "metadata": {
        "id": "3kEgsJ7PmKCC"
      }
    },
    {
      "cell_type": "code",
      "source": [
        "sns.countplot(x='Emotion', data=train_df)"
      ],
      "metadata": {
        "colab": {
          "base_uri": "https://localhost:8080/",
          "height": 466
        },
        "id": "tcQWzkCU9Zd4",
        "outputId": "65c05f82-229b-42cb-b1d7-b08a326a76a8"
      },
      "execution_count": 23,
      "outputs": [
        {
          "output_type": "execute_result",
          "data": {
            "text/plain": [
              "<Axes: xlabel='Emotion', ylabel='count'>"
            ]
          },
          "metadata": {},
          "execution_count": 23
        },
        {
          "output_type": "display_data",
          "data": {
            "text/plain": [
              "<Figure size 640x480 with 1 Axes>"
            ],
            "image/png": "[encoded data removed]"
          },
          "metadata": {}
        }
      ]
    },
    {
      "cell_type": "markdown",
      "source": [
        "Đoạn mã trên sẽ tạo ra một biểu đồ cột (bar chart) với trục **x** là cột **'`Emotion`'** và đếm số lượng các mẫu tương ứng."
      ],
      "metadata": {
        "id": "yXH-1NivmQbl"
      }
    },
    {
      "cell_type": "markdown",
      "source": [
        "# 4. Tokenization using PhoBERT"
      ],
      "metadata": {
        "id": "P2g9cLui9c6O"
      }
    },
    {
      "cell_type": "code",
      "source": [
        "tokenizer = AutoTokenizer.from_pretrained(\"vinai/phobert-base\", use_fast=False)"
      ],
      "metadata": {
        "id": "I1theKwq9jwY"
      },
      "execution_count": 24,
      "outputs": []
    },
    {
      "cell_type": "markdown",
      "source": [
        "Đoạn mã trên sử dụng thư viện **`transformers`** để tải và khởi tạo một tokenizer từ mô hình **`vinai/phobert-base`**.\n",
        "\n",
        "Trong đó:\n",
        "- **`\"vinai/phobert-base\"`** là tên của mô hình PhoBERT được cung cấp bởi VinAI Research.\n",
        "- **`use_fast=False`** được sử dụng để tải tokenizer theo chế độ không sử dụng các cải tiến nhanh của Hugging Face. Mặc định là **`True`**, nhưng khi chọn **`False`**, việc tải tokenizer có thể mất nhiều thời gian hơn nhưng sẽ tiết kiệm bộ nhớ."
      ],
      "metadata": {
        "id": "V6fRnVHdm3Wa"
      }
    },
    {
      "cell_type": "markdown",
      "source": [
        "BERT works with fixed-length sequences. We’ll use a simple strategy to choose the max length."
      ],
      "metadata": {
        "id": "AY7bUbU59vO0"
      }
    },
    {
      "cell_type": "code",
      "source": [
        "all_data = train_df.Sentence.tolist() + test_df.Sentence.tolist()\n",
        "all_data = [' '.join(simple_preprocess(text)) for text in all_data]\n",
        "encoded_text = [tokenizer.encode(text, add_special_tokens=True) for text in all_data]\n",
        "token_lens = [len(text) for text in encoded_text]\n",
        "\n",
        "sns.set(rc={'figure.figsize':(11.7,8.27)})\n",
        "sns.displot(token_lens, height=5, aspect=3)\n",
        "plt.xlim([0,max(token_lens)])\n",
        "plt.xlabel('Token Count')"
      ],
      "metadata": {
        "colab": {
          "base_uri": "https://localhost:8080/",
          "height": 249
        },
        "id": "OnYTn6-Q9wbl",
        "outputId": "112571b2-053d-4f13-b18f-86652950f056"
      },
      "execution_count": 25,
      "outputs": [
        {
          "output_type": "execute_result",
          "data": {
            "text/plain": [
              "Text(0.5, 12.44444444444443, 'Token Count')"
            ]
          },
          "metadata": {},
          "execution_count": 25
        },
        {
          "output_type": "display_data",
          "data": {
            "text/plain": [
              "<Figure size 1500x500 with 1 Axes>"
            ],
            "image/png": "[encoded data removed]"
          },
          "metadata": {}
        }
      ]
    },
    {
      "cell_type": "markdown",
      "source": [
        "Đoạn mã trên tạo ra biểu đồ phân phối độ dài của các câu sau khi mã hóa thành mã token bằng tokenizer. Cụ thể:\n",
        "\n",
        "- **`all_data`**: Là danh sách chứa tất cả các câu trong tập huấn luyện và tập kiểm tra, đã được chuyển đổi thành dạng lowercase và loại bỏ các ký tự đặc biệt.\n",
        "- **`encoded_text`**: Là danh sách chứa các câu đã được mã hóa thành mã token bằng tokenizer.\n",
        "- **`token_lens`**: Là danh sách chứa độ dài của mỗi câu sau khi mã hóa thành mã token.\n",
        "\n",
        "Biểu đồ được tạo bằng thư viện Seaborn và matplotlib, hiển thị phân phối của độ dài câu dựa trên số lượng token. Biểu đồ giúp chúng ta hiểu được phân phối của độ dài câu và có thể hữu ích trong việc định cấu hình độ dài tối đa cho mô hình."
      ],
      "metadata": {
        "id": "oQcPyvH6pK6k"
      }
    },
    {
      "cell_type": "markdown",
      "source": [
        "==> Chọn chiều dài tối đa là 50 là an toàn"
      ],
      "metadata": {
        "id": "ue1SI2q6X4L5"
      }
    },
    {
      "cell_type": "markdown",
      "source": [
        "# 5. Training"
      ],
      "metadata": {
        "id": "9D0JR6nD92cj"
      }
    },
    {
      "cell_type": "markdown",
      "source": [
        "**Training with K-Fold**"
      ],
      "metadata": {
        "id": "uJxQ1bFw96bU"
      }
    },
    {
      "cell_type": "code",
      "source": [
        "for fold in range(skf.n_splits):\n",
        "    print(f'-----------Fold: {fold+1} ------------------')\n",
        "    train_loader, valid_loader = prepare_loaders(train_df, fold=fold)\n",
        "    model = SentimentClassifier(n_classes=7).to(device)\n",
        "    criterion = nn.CrossEntropyLoss()\n",
        "    # Recommendation by BERT: lr: 5e-5, 2e-5, 3e-5\n",
        "    # Batchsize: 16, 32\n",
        "    optimizer = AdamW(model.parameters(), lr=2e-5)\n",
        "    \n",
        "    lr_scheduler = get_linear_schedule_with_warmup(\n",
        "                optimizer, \n",
        "                num_warmup_steps=0, \n",
        "                num_training_steps=len(train_loader)*EPOCHS\n",
        "            )\n",
        "    best_acc = 0\n",
        "    for epoch in range(EPOCHS):\n",
        "        print(f'Epoch {epoch+1}/{EPOCHS}')\n",
        "        print('-'*30)\n",
        "\n",
        "        train(model, criterion, optimizer, train_loader)\n",
        "        val_acc = eval()\n",
        "\n",
        "        if val_acc > best_acc:\n",
        "            torch.save(model.state_dict(), f'phobert_fold{fold+1}.pth')\n",
        "            best_acc = val_acc"
      ],
      "metadata": {
        "colab": {
          "base_uri": "https://localhost:8080/"
        },
        "id": "SPlqBB-C-ETb",
        "outputId": "bb578ce0-7d85-4b9f-d703-8b249b02c990"
      },
      "execution_count": 26,
      "outputs": [
        {
          "output_type": "stream",
          "name": "stdout",
          "text": [
            "-----------Fold: 1 ------------------\n",
            "Epoch 1/6\n",
            "------------------------------\n",
            "Train Accuracy: 0.37617806296370565 Loss: 1.6341180690588095\n",
            "Valid Accuracy: 0.5252606255012029 Loss: 1.305380669159767\n",
            "Epoch 2/6\n",
            "------------------------------\n",
            "Train Accuracy: 0.5766994184880689 Loss: 1.2167388731852555\n",
            "Valid Accuracy: 0.5926222935044105 Loss: 1.1947218439517877\n",
            "Epoch 3/6\n",
            "------------------------------\n",
            "Train Accuracy: 0.6667335071185081 Loss: 0.9773907526754416\n",
            "Valid Accuracy: 0.5998396150761829 Loss: 1.1708458952414684\n",
            "Epoch 4/6\n",
            "------------------------------\n",
            "Train Accuracy: 0.7300982554642069 Loss: 0.8013667154770631\n",
            "Valid Accuracy: 0.6134723336006416 Loss: 1.116731882477418\n",
            "Epoch 5/6\n",
            "------------------------------\n",
            "Train Accuracy: 0.7876478844996992 Loss: 0.6628419832350352\n",
            "Valid Accuracy: 0.6142742582197274 Loss: 1.1536177438803208\n",
            "Epoch 6/6\n",
            "------------------------------\n",
            "Train Accuracy: 0.8215359935833166 Loss: 0.5722139111887186\n",
            "Valid Accuracy: 0.6222935044105854 Loss: 1.1617805793499336\n",
            "-----------Fold: 2 ------------------\n",
            "Epoch 1/6\n",
            "------------------------------\n",
            "Train Accuracy: 0.40164427511529976 Loss: 1.5808514675650842\n",
            "Valid Accuracy: 0.5172413793103449 Loss: 1.336863481081449\n",
            "Epoch 2/6\n",
            "------------------------------\n",
            "Train Accuracy: 0.5718869059554842 Loss: 1.192952234775592\n",
            "Valid Accuracy: 0.5934242181234963 Loss: 1.14968091631547\n",
            "Epoch 3/6\n",
            "------------------------------\n",
            "Train Accuracy: 0.6779627030278724 Loss: 0.9401595978400646\n",
            "Valid Accuracy: 0.5926222935044105 Loss: 1.1193348253384614\n",
            "Epoch 4/6\n",
            "------------------------------\n",
            "Train Accuracy: 0.743934228995388 Loss: 0.7724311295419167\n",
            "Valid Accuracy: 0.6110665597433841 Loss: 1.1406119844088187\n",
            "Epoch 5/6\n",
            "------------------------------\n",
            "Train Accuracy: 0.7900541407659916 Loss: 0.6292025233403995\n",
            "Valid Accuracy: 0.6110665597433841 Loss: 1.1621756351146943\n",
            "Epoch 6/6\n",
            "------------------------------\n",
            "Train Accuracy: 0.8193302586725486 Loss: 0.5564173283771827\n",
            "Valid Accuracy: 0.6070569366479551 Loss: 1.1845234074653723\n",
            "-----------Fold: 3 ------------------\n",
            "Epoch 1/6\n",
            "------------------------------\n",
            "Train Accuracy: 0.35913374774413476 Loss: 1.6590777585903804\n",
            "Valid Accuracy: 0.5220529270248596 Loss: 1.3492154563084626\n",
            "Epoch 2/6\n",
            "------------------------------\n",
            "Train Accuracy: 0.5666733507118508 Loss: 1.2595439568544045\n",
            "Valid Accuracy: 0.5886126704089816 Loss: 1.188580028521709\n",
            "Epoch 3/6\n",
            "------------------------------\n",
            "Train Accuracy: 0.6563063966312412 Loss: 1.023254128984916\n",
            "Valid Accuracy: 0.5886126704089816 Loss: 1.1503102427873857\n",
            "Epoch 4/6\n",
            "------------------------------\n",
            "Train Accuracy: 0.7182674954882695 Loss: 0.8482419178845026\n",
            "Valid Accuracy: 0.595028067361668 Loss: 1.169815447850105\n",
            "Epoch 5/6\n",
            "------------------------------\n",
            "Train Accuracy: 0.7677962703027872 Loss: 0.7210161864566498\n",
            "Valid Accuracy: 0.6094627105052125 Loss: 1.1588170639215372\n",
            "Epoch 6/6\n",
            "------------------------------\n",
            "Train Accuracy: 0.8026869861640265 Loss: 0.6316189071020255\n",
            "Valid Accuracy: 0.599037690457097 Loss: 1.1813986866902082\n",
            "-----------Fold: 4 ------------------\n",
            "Epoch 1/6\n",
            "------------------------------\n",
            "Train Accuracy: 0.4020453178263485 Loss: 1.5823237699193833\n",
            "Valid Accuracy: 0.5445068163592622 Loss: 1.278155722679236\n",
            "Epoch 2/6\n",
            "------------------------------\n",
            "Train Accuracy: 0.5779025466212151 Loss: 1.1924779084630501\n",
            "Valid Accuracy: 0.5926222935044105 Loss: 1.1353009182673235\n",
            "Epoch 3/6\n",
            "------------------------------\n",
            "Train Accuracy: 0.674954882695007 Loss: 0.9446066980942701\n",
            "Valid Accuracy: 0.6094627105052125 Loss: 1.1151182162456024\n",
            "Epoch 4/6\n",
            "------------------------------\n",
            "Train Accuracy: 0.7419290154401443 Loss: 0.7696278539892191\n",
            "Valid Accuracy: 0.6126704089815558 Loss: 1.1394170897129254\n",
            "Epoch 5/6\n",
            "------------------------------\n",
            "Train Accuracy: 0.7946661319430519 Loss: 0.6374761664236968\n",
            "Valid Accuracy: 0.6118684843624699 Loss: 1.179959544004538\n",
            "Epoch 6/6\n",
            "------------------------------\n",
            "Train Accuracy: 0.8251453779827551 Loss: 0.5529435364863812\n",
            "Valid Accuracy: 0.6222935044105854 Loss: 1.181865848791905\n",
            "-----------Fold: 5 ------------------\n",
            "Epoch 1/6\n",
            "------------------------------\n",
            "Train Accuracy: 0.3706896551724138 Loss: 1.6392874301244051\n",
            "Valid Accuracy: 0.48073836276083465 Loss: 1.4237523002502246\n",
            "Epoch 2/6\n",
            "------------------------------\n",
            "Train Accuracy: 0.5733761026463512 Loss: 1.2288563396686163\n",
            "Valid Accuracy: 0.5754414125200642 Loss: 1.1987922802949562\n",
            "Epoch 3/6\n",
            "------------------------------\n",
            "Train Accuracy: 0.661186848436247 Loss: 0.991435883518977\n",
            "Valid Accuracy: 0.5818619582664526 Loss: 1.188251786507093\n",
            "Epoch 4/6\n",
            "------------------------------\n",
            "Train Accuracy: 0.7277465918203688 Loss: 0.8087062468895545\n",
            "Valid Accuracy: 0.5874799357945425 Loss: 1.2047612690008604\n",
            "Epoch 5/6\n",
            "------------------------------\n",
            "Train Accuracy: 0.7782678428227746 Loss: 0.6724226810993292\n",
            "Valid Accuracy: 0.5947030497592295 Loss: 1.2254063861492352\n",
            "Epoch 6/6\n",
            "------------------------------\n",
            "Train Accuracy: 0.8159582999198075 Loss: 0.5864811292730081\n",
            "Valid Accuracy: 0.593900481540931 Loss: 1.2459379793741765\n"
          ]
        }
      ]
    },
    {
      "cell_type": "markdown",
      "source": [
        "Đoạn mã trên thực hiện quá trình huấn luyện và đánh giá mô hình trên mỗi fold. Các bước thực hiện trong mỗi fold là:\n",
        "\n",
        "- In thông báo về fold hiện tại.\n",
        "- Chuẩn bị DataLoader huấn luyện và DataLoader đánh giá bằng cách gọi hàm **`prepare_loaders`**.\n",
        "- Khởi tạo mô hình **`SentimentClassifier`** với số lớp đầu ra là 7 và đưa mô hình vào thiết bị **`device`**.\n",
        "- Định nghĩa hàm mất mát **`criterion`** là **`nn.CrossEntropyLoss()`**.\n",
        "- Tạo bộ tối ưu hóa **`optimizer`** bằng cách sử dụng **`AdamW`** với tỷ lệ học **`lr`** là 2e-5.\n",
        "- Tạo lịch biến đổi tỷ lệ học **`lr_scheduler`** bằng cách sử dụng **`get_linear_schedule_with_warmup`**.\n",
        "- Khởi tạo biến **`best_acc`** để lưu giữ độ chính xác tốt nhất trên tập đánh giá.\n",
        "- Bắt đầu vòng lặp qua các epoch.\n",
        "  - In thông báo về epoch hiện tại.\n",
        "  - Huấn luyện mô hình bằng cách gọi hàm **`train`**.\n",
        "  - Đánh giá mô hình trên tập đánh giá bằng cách gọi hàm **`eval`**.\n",
        "  - Nếu độ chính xác trên tập đánh giá (**`val_acc`**) vượt qua độ chính xác tốt nhất trước đó (**`best_acc`**), lưu trạng thái của mô hình vào file **`phobert_fold{fold+1}.pth`** và cập nhật **`best_acc`**.\n",
        "\n",
        "Đoạn mã trên thực hiện huấn luyện và lưu trạng thái tốt nhất của mô hình trên mỗi fold, mỗi fold được lưu vào một tệp tin riêng biệt với tên **`phobert_fold{fold+1}.pth`**."
      ],
      "metadata": {
        "id": "FTS3dh3gvPwJ"
      }
    },
    {
      "cell_type": "markdown",
      "source": [
        "# 6. Testing"
      ],
      "metadata": {
        "id": "MRcGzQ0Z-GOO"
      }
    },
    {
      "cell_type": "code",
      "source": [
        "test_dataset = SentimentDataset(test_df, tokenizer, max_len=50)\n",
        "test_loader = DataLoader(test_dataset, batch_size=16, shuffle=True, num_workers=2)\n",
        "real_values, predicts = test(test_loader)"
      ],
      "metadata": {
        "id": "cI8CZGJW-Kkl",
        "colab": {
          "base_uri": "https://localhost:8080/"
        },
        "outputId": "22c3ea1c-bc1a-407d-8174-58b4928a37a7"
      },
      "execution_count": 27,
      "outputs": [
        {
          "output_type": "stream",
          "name": "stdout",
          "text": [
            "              precision    recall  f1-score   support\n",
            "\n",
            "           0       0.66      0.67      0.67       193\n",
            "           1       0.60      0.59      0.60       132\n",
            "           2       0.65      0.65      0.65       116\n",
            "           3       0.41      0.35      0.38        40\n",
            "           4       0.65      0.41      0.50        37\n",
            "           5       0.65      0.67      0.66        46\n",
            "           6       0.52      0.59      0.55       129\n",
            "\n",
            "    accuracy                           0.60       693\n",
            "   macro avg       0.59      0.56      0.57       693\n",
            "weighted avg       0.61      0.60      0.60       693\n",
            "\n"
          ]
        }
      ]
    },
    {
      "cell_type": "markdown",
      "source": [
        "- Dòng đầu tiên tạo một đối tượng **`test_dataset`** từ **`test_df`**, sử dụng **`SentimentDataset`** để chuyển đổi dữ liệu kiểm tra thành dữ liệu có thể đưa vào mô hình. Đối tượng **`test_dataset`** được cấu hình với tokenizer và độ dài tối đa của câu là 50.\n",
        "\n",
        "- Dòng thứ hai tạo một **`test_loader`** từ **`test_dataset`** để tạo ra các batch dữ liệu kiểm tra. **`test_loader`** có kích thước batch là 16, được xáo trộn (**`shuffle=True`**) và sử dụng 2 worker để tải dữ liệu song song (**`num_workers=2`**).\n",
        "\n",
        "- Dòng thứ ba gọi hàm **`test`** và truyền **`test_loader`** vào để thực hiện dự đoán trên dữ liệu kiểm tra. Hàm **`test`** sẽ sử dụng các mô hình đã được huấn luyện trên từng fold để dự đoán và trả về giá trị thực (**`real_values`**) và dự đoán (**`predicts`**).\n",
        "\n",
        "Với **`real_values`** và **`predicts`**, ta có thể tiến hành mô tả và đánh giá hiệu suất của mô hình trên tập dữ liệu kiểm tra bằng cách tính toán các độ đo như precision, recall và f1-score."
      ],
      "metadata": {
        "id": "t4DLAdtjx_gw"
      }
    },
    {
      "cell_type": "markdown",
      "source": [
        "**Heatmap between Predict and Ground Truth**"
      ],
      "metadata": {
        "id": "tWsGi8Wp-L80"
      }
    },
    {
      "cell_type": "code",
      "source": [
        "class_names = ['Enjoyment', 'Disgust', 'Sadness', 'Anger', 'Surprise', 'Fear', 'Other']\n",
        "sns.heatmap(confusion_matrix(real_values, predicts), annot=False, xticklabels = class_names, yticklabels = class_names)"
      ],
      "metadata": {
        "id": "pJ1Ar3bD-Oar",
        "colab": {
          "base_uri": "https://localhost:8080/",
          "height": 516
        },
        "outputId": "25264242-24d4-474f-dc5a-670e3954bf64"
      },
      "execution_count": 28,
      "outputs": [
        {
          "output_type": "execute_result",
          "data": {
            "text/plain": [
              "<Axes: >"
            ]
          },
          "metadata": {},
          "execution_count": 28
        },
        {
          "output_type": "display_data",
          "data": {
            "text/plain": [
              "<Figure size 1170x827 with 2 Axes>"
            ],
            "image/png": "[encoded data removed]"
          },
          "metadata": {}
        }
      ]
    },
    {
      "cell_type": "markdown",
      "source": [
        "Đoạn mã trên tạo một heatmap sử dụng confusion matrix để hiển thị các dự đoán và giá trị thực của mô hình trên tập dữ liệu kiểm tra. \n",
        "\n",
        "- **`class_names`** là danh sách các lớp hoạt động (emotions) được định nghĩa là **`['Enjoyment', 'Disgust', 'Sadness', 'Anger', 'Surprise', 'Fear', 'Other']`**. \n",
        "- **`confusion_matrix(real_values, predicts)`** tính ma trận nhầm lẫn giữa các dự đoán (**`predicts`**) và giá trị thực (**`real_values`**).\n",
        "- **`sns.heatmap(...)`** sử dụng seaborn để vẽ heatmap với các giá trị trong ma trận nhầm lẫn. \n",
        "  - **`annot=False`** để không hiển thị các giá trị trên heatmap.\n",
        "  - **`xticklabels`** và **`yticklabels`** được đặt thành **`class_names`** để hiển thị tên của các lớp hoạt động trên các trục x và y của heatmap."
      ],
      "metadata": {
        "id": "ofiyKnALzsL3"
      }
    },
    {
      "cell_type": "markdown",
      "source": [
        "=> Nhãn Fear không có quan hệ với các nhãn khác -> F1-Score cao nhất"
      ],
      "metadata": {
        "id": "4IkfQLyb-Pf7"
      }
    },
    {
      "cell_type": "code",
      "source": [
        "for i in range(15):\n",
        "    print('-'*50)\n",
        "    wrong_arr, wrong_label = check_wrong(real_values, predicts)\n",
        "    print(test_df.iloc[wrong_arr[i]].Sentence)\n",
        "    print(f'Predicted: ({class_names[wrong_label[i]]}) --vs-- Real label: ({class_names[real_values[wrong_arr[i]]]})')"
      ],
      "metadata": {
        "id": "SVXTK3Ub-Q83",
        "colab": {
          "base_uri": "https://localhost:8080/"
        },
        "outputId": "d5f1f1ec-b8d2-467c-e5db-afe113685641"
      },
      "execution_count": 29,
      "outputs": [
        {
          "output_type": "stream",
          "name": "stdout",
          "text": [
            "--------------------------------------------------\n",
            "cho nghỉ viêc mói đúng sao goi là kỷ luật\n",
            "Predicted: (Other) --vs-- Real label: (Disgust)\n",
            "--------------------------------------------------\n",
            "nhà thì không xa lắm nhưng chưa bao giờ đi vì sợ bị đè bẹp luôn người =)))))\n",
            "Predicted: (Other) --vs-- Real label: (Enjoyment)\n",
            "--------------------------------------------------\n",
            "bố không thích nộp đấy mày thích ý kiến không\n",
            "Predicted: (Anger) --vs-- Real label: (Disgust)\n",
            "--------------------------------------------------\n",
            "một hành động đẹp đầy tính nhân văn ☺️☺️\n",
            "Predicted: (Other) --vs-- Real label: (Enjoyment)\n",
            "--------------------------------------------------\n",
            "mấy ai được như vậy ??\n",
            "Predicted: (Other) --vs-- Real label: (Sadness)\n",
            "--------------------------------------------------\n",
            "sống 17 năm chưa crush ai bao giờ\n",
            "Predicted: (Disgust) --vs-- Real label: (Enjoyment)\n",
            "--------------------------------------------------\n",
            "ổng quay thiệt mà sao chửi ổng thế . không quay sao máy bạn xem được đó :))\n",
            "Predicted: (Anger) --vs-- Real label: (Fear)\n",
            "--------------------------------------------------\n",
            "nghe ngọt thế :((\n",
            "Predicted: (Enjoyment) --vs-- Real label: (Surprise)\n",
            "--------------------------------------------------\n",
            "mệt vãi .. mà cừời cũng vãi ??????\n",
            "Predicted: (Sadness) --vs-- Real label: (Enjoyment)\n",
            "--------------------------------------------------\n",
            "hậu duệ mặt trời đấy chứ đùa đâu nhá 😗😗\n",
            "Predicted: (Other) --vs-- Real label: (Disgust)\n",
            "--------------------------------------------------\n",
            "tôi ở phú yên và anh này nói rất chuẩn < 3\n",
            "Predicted: (Disgust) --vs-- Real label: (Sadness)\n",
            "--------------------------------------------------\n",
            "đứa nào bị táo bón thâm niên cứ ra cầu này mà nhảy đảm bảo hiệu quả ngay lần đầu trải nghiệm 🤣🤣🤣\n",
            "Predicted: (Other) --vs-- Real label: (Enjoyment)\n",
            "--------------------------------------------------\n",
            "trơi ơi sao lại cháy chứ\n",
            "Predicted: (Fear) --vs-- Real label: (Disgust)\n",
            "--------------------------------------------------\n",
            "per dạo này ít tung tăng hơn xưa nên hơi trầm cảm dồi chăng 😳\n",
            "Predicted: (Enjoyment) --vs-- Real label: (Sadness)\n",
            "--------------------------------------------------\n",
            "dume sao sao nó nói tiếng việt được vậy\n",
            "Predicted: (Fear) --vs-- Real label: (Anger)\n"
          ]
        }
      ]
    },
    {
      "cell_type": "markdown",
      "source": [
        "Trong vòng lặp trên, chúng ta sử dụng hàm **`check_wrong`** để lấy danh sách các vị trí dự đoán sai (**`wrong_arr`**) và danh sách các dự đoán sai (**`wrong_label`**). Sau đó, chúng ta in ra câu văn bị dự đoán sai từ **`test_df`**, dự đoán sai (**`wrong_label`**), và nhãn thực tế (**`real_values`**) tương ứng với câu văn đó."
      ],
      "metadata": {
        "id": "O_8-3d810buv"
      }
    },
    {
      "cell_type": "markdown",
      "source": [
        "# 7. Inference"
      ],
      "metadata": {
        "id": "uV8Em1d5-XFF"
      }
    },
    {
      "cell_type": "code",
      "source": [
        "infer('Thật là vui vì cuối cùng đã hoàn thành công việc', tokenizer)"
      ],
      "metadata": {
        "id": "0M_ajwtQ-buJ",
        "colab": {
          "base_uri": "https://localhost:8080/"
        },
        "outputId": "b6206b90-78a6-4b63-e76f-4c304be0ba1a"
      },
      "execution_count": 30,
      "outputs": [
        {
          "output_type": "stream",
          "name": "stdout",
          "text": [
            "Text: Thật là vui vì cuối cùng đã hoàn thành công việc\n",
            "Sentiment: Enjoyment\n"
          ]
        }
      ]
    },
    {
      "cell_type": "code",
      "source": [
        "infer('Rớt môn rồi, tôi buồn quá', tokenizer)"
      ],
      "metadata": {
        "id": "HH5w3aW5-c1T",
        "colab": {
          "base_uri": "https://localhost:8080/"
        },
        "outputId": "4a15b49e-b84b-4ab4-848b-e1b15f043fe1"
      },
      "execution_count": 31,
      "outputs": [
        {
          "output_type": "stream",
          "name": "stdout",
          "text": [
            "Text: Rớt môn rồi, tôi buồn quá\n",
            "Sentiment: Sadness\n"
          ]
        }
      ]
    },
    {
      "cell_type": "code",
      "source": [
        "infer('Tại sao lại đến trễ, thật bực mình', tokenizer)"
      ],
      "metadata": {
        "id": "sO9tpYKL-elF",
        "colab": {
          "base_uri": "https://localhost:8080/"
        },
        "outputId": "4ff0787a-adef-4d1a-ad91-638482be7587"
      },
      "execution_count": 32,
      "outputs": [
        {
          "output_type": "stream",
          "name": "stdout",
          "text": [
            "Text: Tại sao lại đến trễ, thật bực mình\n",
            "Sentiment: Sadness\n"
          ]
        }
      ]
    },
    {
      "cell_type": "code",
      "source": [
        "infer('Ồ! ở đó có nhiều vàng vậy hả?', tokenizer)"
      ],
      "metadata": {
        "id": "GxFG7Ltw-f8Y",
        "colab": {
          "base_uri": "https://localhost:8080/"
        },
        "outputId": "54c0a617-8306-4873-dc76-83b4272bceb6"
      },
      "execution_count": 33,
      "outputs": [
        {
          "output_type": "stream",
          "name": "stdout",
          "text": [
            "Text: Ồ! ở đó có nhiều vàng vậy hả?\n",
            "Sentiment: Surprise\n"
          ]
        }
      ]
    },
    {
      "cell_type": "code",
      "source": [
        "infer('Cái đó nhìn ghê quá!', tokenizer)"
      ],
      "metadata": {
        "id": "WKKmimAg-g6R",
        "colab": {
          "base_uri": "https://localhost:8080/"
        },
        "outputId": "b070292e-d0ee-4d7b-a7f3-595ad8883e32"
      },
      "execution_count": 34,
      "outputs": [
        {
          "output_type": "stream",
          "name": "stdout",
          "text": [
            "Text: Cái đó nhìn ghê quá!\n",
            "Sentiment: Fear\n"
          ]
        }
      ]
    },
    {
      "cell_type": "code",
      "source": [
        "infer('Cái đó nhìn ghê quá!', tokenizer)"
      ],
      "metadata": {
        "id": "8rOCNKpL-hzY",
        "colab": {
          "base_uri": "https://localhost:8080/"
        },
        "outputId": "bf3dc65f-7be0-4b13-c9be-9fa784003830"
      },
      "execution_count": 35,
      "outputs": [
        {
          "output_type": "stream",
          "name": "stdout",
          "text": [
            "Text: Cái đó nhìn ghê quá!\n",
            "Sentiment: Fear\n"
          ]
        }
      ]
    },
    {
      "cell_type": "code",
      "source": [
        "infer('Bộ phim này chán quá', tokenizer)"
      ],
      "metadata": {
        "colab": {
          "base_uri": "https://localhost:8080/"
        },
        "id": "QHzzk346jJ7O",
        "outputId": "bef62cee-4a1d-4f28-90da-b86a93ace292"
      },
      "execution_count": 36,
      "outputs": [
        {
          "output_type": "stream",
          "name": "stdout",
          "text": [
            "Text: Bộ phim này chán quá\n",
            "Sentiment: Disgust\n"
          ]
        }
      ]
    },
    {
      "cell_type": "code",
      "source": [
        "infer('Em yêu Hệ thống', tokenizer)"
      ],
      "metadata": {
        "colab": {
          "base_uri": "https://localhost:8080/"
        },
        "id": "kvsJV1MijdiO",
        "outputId": "77e10275-4320-447c-9fc9-543a6e8999d8"
      },
      "execution_count": 37,
      "outputs": [
        {
          "output_type": "stream",
          "name": "stdout",
          "text": [
            "Text: Em yêu Hệ thống\n",
            "Sentiment: Enjoyment\n"
          ]
        }
      ]
    },
    {
      "cell_type": "code",
      "source": [
        "infer('Tôi không hiểu bộ phim đang nói về vấn đề gì', tokenizer)"
      ],
      "metadata": {
        "colab": {
          "base_uri": "https://localhost:8080/"
        },
        "id": "7CPRaDuzjjC5",
        "outputId": "4a48a8ad-b9be-49a0-9a27-837819766baf"
      },
      "execution_count": 38,
      "outputs": [
        {
          "output_type": "stream",
          "name": "stdout",
          "text": [
            "Text: Tôi không hiểu bộ phim đang nói về vấn đề gì\n",
            "Sentiment: Other\n"
          ]
        }
      ]
    }
  ]
}